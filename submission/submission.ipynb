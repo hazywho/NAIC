{
 "cells": [
  {
   "cell_type": "code",
   "execution_count": 2,
   "id": "5a27ca2d",
   "metadata": {},
   "outputs": [
    {
     "name": "stderr",
     "output_type": "stream",
     "text": [
      "Retrieving folder contents\n"
     ]
    },
    {
     "name": "stdout",
     "output_type": "stream",
     "text": [
      "Retrieving folder 1qO-cQtRdp-hLu6LMQ68OEv0zA791puJO test_images\n",
      "Processing file 1cxftTp4A1_13gWe4QeAlhK9AcGzIDBEH Kek Lapis.jpg\n",
      "Processing file 1aqVkDJiANm0MqLeTJALC1RuKZgt0IlI4 Kuih Kaswi Pandan.jpg\n",
      "Processing file 11K7Hc9nt3Qllw4lG4ajxineVHvXKmuY6 Kuih Ketayap.jpg\n",
      "Processing file 1qTcPAX5eSPLkAkhlyGfgooDXHZPFoJOM Kuih Lapis.jpg\n",
      "Processing file 17CPxIkfU_tecxiF1-G4nXTD0Vv_1biB- Kuih Seri Muka.png\n",
      "Processing file 1MEhhjAoBK66wtj6Xs1orsrA2vR9qLjhR Kuih Talam.jpg\n",
      "Processing file 1KmI2JRpz4DnCAmPbCWoK31BJBH4ax8i7 Kuih Ubi Kayu.jpg\n",
      "Processing file 1QFZdtM4ok-vH0kPgA7gdZQzT1aSppWcF Onde-Onde.jpg\n",
      "Processing file 12ufiwhl6whVp33F05RLiDRieRSN13XlP test_labels.txt\n"
     ]
    },
    {
     "name": "stderr",
     "output_type": "stream",
     "text": [
      "Retrieving folder contents completed\n",
      "Building directory structure\n",
      "Building directory structure completed\n",
      "Downloading...\n",
      "From: https://drive.google.com/uc?id=1cxftTp4A1_13gWe4QeAlhK9AcGzIDBEH\n",
      "To: c:\\Users\\zanyi\\Documents\\GitHub\\NAIC\\submission\\test_folder\\test_images\\Kek Lapis.jpg\n",
      "100%|██████████| 1.27M/1.27M [00:00<00:00, 1.45MB/s]\n",
      "Downloading...\n",
      "From: https://drive.google.com/uc?id=1aqVkDJiANm0MqLeTJALC1RuKZgt0IlI4\n",
      "To: c:\\Users\\zanyi\\Documents\\GitHub\\NAIC\\submission\\test_folder\\test_images\\Kuih Kaswi Pandan.jpg\n",
      "100%|██████████| 418k/418k [00:00<00:00, 987kB/s]\n",
      "Downloading...\n",
      "From: https://drive.google.com/uc?id=11K7Hc9nt3Qllw4lG4ajxineVHvXKmuY6\n",
      "To: c:\\Users\\zanyi\\Documents\\GitHub\\NAIC\\submission\\test_folder\\test_images\\Kuih Ketayap.jpg\n",
      "100%|██████████| 373k/373k [00:00<00:00, 1.33MB/s]\n",
      "Downloading...\n",
      "From: https://drive.google.com/uc?id=1qTcPAX5eSPLkAkhlyGfgooDXHZPFoJOM\n",
      "To: c:\\Users\\zanyi\\Documents\\GitHub\\NAIC\\submission\\test_folder\\test_images\\Kuih Lapis.jpg\n",
      "100%|██████████| 56.6k/56.6k [00:00<00:00, 777kB/s]\n",
      "Downloading...\n",
      "From: https://drive.google.com/uc?id=17CPxIkfU_tecxiF1-G4nXTD0Vv_1biB-\n",
      "To: c:\\Users\\zanyi\\Documents\\GitHub\\NAIC\\submission\\test_folder\\test_images\\Kuih Seri Muka.png\n",
      "100%|██████████| 1.04M/1.04M [00:00<00:00, 1.60MB/s]\n",
      "Downloading...\n",
      "From: https://drive.google.com/uc?id=1MEhhjAoBK66wtj6Xs1orsrA2vR9qLjhR\n",
      "To: c:\\Users\\zanyi\\Documents\\GitHub\\NAIC\\submission\\test_folder\\test_images\\Kuih Talam.jpg\n",
      "100%|██████████| 16.8k/16.8k [00:00<?, ?B/s]\n",
      "Downloading...\n",
      "From: https://drive.google.com/uc?id=1KmI2JRpz4DnCAmPbCWoK31BJBH4ax8i7\n",
      "To: c:\\Users\\zanyi\\Documents\\GitHub\\NAIC\\submission\\test_folder\\test_images\\Kuih Ubi Kayu.jpg\n",
      "100%|██████████| 155k/155k [00:00<00:00, 811kB/s]\n",
      "Downloading...\n",
      "From: https://drive.google.com/uc?id=1QFZdtM4ok-vH0kPgA7gdZQzT1aSppWcF\n",
      "To: c:\\Users\\zanyi\\Documents\\GitHub\\NAIC\\submission\\test_folder\\test_images\\Onde-Onde.jpg\n",
      "100%|██████████| 95.9k/95.9k [00:00<00:00, 840kB/s]\n",
      "Downloading...\n",
      "From: https://drive.google.com/uc?id=12ufiwhl6whVp33F05RLiDRieRSN13XlP\n",
      "To: c:\\Users\\zanyi\\Documents\\GitHub\\NAIC\\submission\\test_folder\\test_labels.txt\n",
      "100%|██████████| 283/283 [00:00<?, ?B/s] \n",
      "Download completed\n",
      "Retrieving folder contents\n"
     ]
    },
    {
     "name": "stdout",
     "output_type": "stream",
     "text": [
      "Processing file 1_7BS5j_Q45__GDzONhUppopYOuzLJi1d best.pt\n"
     ]
    },
    {
     "name": "stderr",
     "output_type": "stream",
     "text": [
      "Retrieving folder contents completed\n",
      "Building directory structure\n",
      "Building directory structure completed\n",
      "Downloading...\n",
      "From: https://drive.google.com/uc?id=1_7BS5j_Q45__GDzONhUppopYOuzLJi1d\n",
      "To: c:\\Users\\zanyi\\Documents\\GitHub\\NAIC\\submission\\model\\best.pt\n",
      "100%|██████████| 20.9M/20.9M [00:09<00:00, 2.27MB/s]\n",
      "Download completed\n"
     ]
    },
    {
     "data": {
      "text/plain": [
       "['model\\\\best.pt']"
      ]
     },
     "execution_count": 2,
     "metadata": {},
     "output_type": "execute_result"
    }
   ],
   "source": [
    "import gdown\n",
    "\n",
    "##Changes here in v2\n",
    "## Use this code to download the testing folder. You must include these 2 lines without any changes\n",
    "test_folder_id = '1LZIhiV9l82W4fNpfaBHyGvh8XBX6SoU2'\n",
    "gdown.download_folder(id=test_folder_id, output=\"test_folder\", quiet=False, use_cookies=False)\n",
    "\n",
    "model_folder_id = \"1XK3T_-hU5WLMcqlrLZe1zWOZkbiGU1tZ\"\n",
    "gdown.download_folder(id=model_folder_id, output=\"model\", quiet=False, use_cookies=False)\n"
   ]
  },
  {
   "cell_type": "code",
   "execution_count": null,
   "id": "53ba62b1",
   "metadata": {},
   "outputs": [],
   "source": [
    "from ultralytics import YOLO\n",
    "\n",
    "model = YOLO(\"model/best.pt\")"
   ]
  },
  {
   "cell_type": "code",
   "execution_count": 57,
   "id": "4155a1a7",
   "metadata": {},
   "outputs": [
    {
     "name": "stdout",
     "output_type": "stream",
     "text": [
      "\n",
      "image 1/1 c:\\Users\\zanyi\\Documents\\GitHub\\NAIC\\submission\\test_folder\\test_images\\Kek Lapis.jpg: 640x640 Kek Lapis 1.00, Kuih Seri Muka 0.00, Kuih Ubi Kayu 0.00, Kuih Lapis 0.00, Kuih Ketayap 0.00, 6.2ms\n",
      "Speed: 11.3ms preprocess, 6.2ms inference, 0.0ms postprocess per image at shape (1, 3, 640, 640)\n",
      "prediction of this is: Kek Lapis\n",
      "\n",
      "image 1/1 c:\\Users\\zanyi\\Documents\\GitHub\\NAIC\\submission\\test_folder\\test_images\\Kuih Kaswi Pandan.jpg: 640x640 Kuih Kaswi Pandan 0.66, Kuih Lapis 0.31, Kuih Seri Muka 0.02, Kuih Ubi Kayu 0.01, Kuih Ketayap 0.00, 6.5ms\n",
      "Speed: 7.8ms preprocess, 6.5ms inference, 0.0ms postprocess per image at shape (1, 3, 640, 640)\n",
      "prediction of this is: Kuih Kaswi Pandan\n",
      "\n",
      "image 1/1 c:\\Users\\zanyi\\Documents\\GitHub\\NAIC\\submission\\test_folder\\test_images\\Kuih Ketayap.jpg: 640x640 Kuih Ketayap 1.00, Kuih Ubi Kayu 0.00, Kek Lapis 0.00, Kuih Lapis 0.00, Kuih Seri Muka 0.00, 6.8ms\n",
      "Speed: 19.2ms preprocess, 6.8ms inference, 0.0ms postprocess per image at shape (1, 3, 640, 640)\n",
      "prediction of this is: Kuih Ketayap\n",
      "\n",
      "image 1/1 c:\\Users\\zanyi\\Documents\\GitHub\\NAIC\\submission\\test_folder\\test_images\\Kuih Lapis.jpg: 640x640 Kuih Lapis 1.00, Kuih Seri Muka 0.00, Kuih Talam 0.00, Kek Lapis 0.00, Kuih Ubi Kayu 0.00, 6.5ms\n",
      "Speed: 6.9ms preprocess, 6.5ms inference, 0.0ms postprocess per image at shape (1, 3, 640, 640)\n",
      "prediction of this is: Kuih Lapis\n",
      "\n",
      "image 1/1 c:\\Users\\zanyi\\Documents\\GitHub\\NAIC\\submission\\test_folder\\test_images\\Kuih Seri Muka.png: 640x640 Kuih Seri Muka 0.99, Kuih Lapis 0.00, Kuih Kaswi Pandan 0.00, Kuih Ketayap 0.00, Kuih Ubi Kayu 0.00, 6.5ms\n",
      "Speed: 10.0ms preprocess, 6.5ms inference, 0.0ms postprocess per image at shape (1, 3, 640, 640)\n",
      "prediction of this is: Kuih Seri Muka\n",
      "\n",
      "image 1/1 c:\\Users\\zanyi\\Documents\\GitHub\\NAIC\\submission\\test_folder\\test_images\\Kuih Talam.jpg: 640x640 Kuih Talam 1.00, Kuih Lapis 0.00, Kuih Ketayap 0.00, Kuih Seri Muka 0.00, Onde Onde 0.00, 6.5ms\n",
      "Speed: 7.2ms preprocess, 6.5ms inference, 0.0ms postprocess per image at shape (1, 3, 640, 640)\n",
      "prediction of this is: Kuih Talam\n",
      "\n",
      "image 1/1 c:\\Users\\zanyi\\Documents\\GitHub\\NAIC\\submission\\test_folder\\test_images\\Kuih Ubi Kayu.jpg: 640x640 Kuih Ubi Kayu 1.00, Kuih Seri Muka 0.00, Kek Lapis 0.00, Kuih Lapis 0.00, Kuih Talam 0.00, 6.6ms\n",
      "Speed: 8.7ms preprocess, 6.6ms inference, 0.0ms postprocess per image at shape (1, 3, 640, 640)\n",
      "prediction of this is: Kuih Ubi Kayu\n",
      "\n",
      "image 1/1 c:\\Users\\zanyi\\Documents\\GitHub\\NAIC\\submission\\test_folder\\test_images\\Onde-Onde.jpg: 640x640 Onde Onde 1.00, Kuih Ketayap 0.00, Kuih Kaswi Pandan 0.00, Kuih Lapis 0.00, Kuih Talam 0.00, 6.2ms\n",
      "Speed: 11.8ms preprocess, 6.2ms inference, 0.0ms postprocess per image at shape (1, 3, 640, 640)\n",
      "prediction of this is: Onde Onde\n",
      "[['Kek Lapis.jpg', 'Kek Lapis'], ['Kuih Kaswi Pandan.jpg', 'Kuih Kaswi Pandan'], ['Kuih Ketayap.jpg', 'Kuih Ketayap'], ['Kuih Lapis.jpg', 'Kuih Lapis'], ['Kuih Seri Muka.png', 'Kuih Seri Muka'], ['Kuih Talam.jpg', 'Kuih Talam'], ['Kuih Ubi Kayu.jpg', 'Kuih Ubi Kayu'], ['Onde-Onde.jpg', 'Onde Onde']]\n"
     ]
    }
   ],
   "source": [
    "#test the data\n",
    "import os\n",
    "import pandas as pd\n",
    "import csv\n",
    "\n",
    "folderPath = r\"test_folder\\test_images\"\n",
    "store = []\n",
    "for path in os.listdir(folderPath):\n",
    "    filePath = os.path.join(folderPath,path)\n",
    "    prediction = model.predict(filePath)\n",
    "    logits = prediction[0].names[prediction[0].probs.top1]\n",
    "    print(f\"prediction of this is: {logits}\")\n",
    "    store.append([path, logits])\n",
    "    \n",
    "print(store)\n",
    "\n",
    "df = pd.DataFrame(store)\n",
    "with open(\"test_labels.txt\", 'w', newline='') as f:\n",
    "    f.write(\"Filename,Class\" + '\\n')\n",
    "    df.to_csv(f,header=False, quotechar='\"', quoting=csv.QUOTE_ALL,index=False)"
   ]
  }
 ],
 "metadata": {
  "kernelspec": {
   "display_name": "base",
   "language": "python",
   "name": "python3"
  },
  "language_info": {
   "codemirror_mode": {
    "name": "ipython",
    "version": 3
   },
   "file_extension": ".py",
   "mimetype": "text/x-python",
   "name": "python",
   "nbconvert_exporter": "python",
   "pygments_lexer": "ipython3",
   "version": "3.12.4"
  }
 },
 "nbformat": 4,
 "nbformat_minor": 5
}
