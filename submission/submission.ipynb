{
 "cells": [
  {
   "cell_type": "code",
   "execution_count": 88,
   "id": "951901ee",
   "metadata": {},
   "outputs": [
    {
     "name": "stdout",
     "output_type": "stream",
     "text": [
      "Defaulting to user installation because normal site-packages is not writeable\n",
      "Requirement already satisfied: pandas in c:\\users\\zanyi\\appdata\\roaming\\python\\python312\\site-packages (2.2.3)\n",
      "Requirement already satisfied: gdown in c:\\users\\zanyi\\appdata\\roaming\\python\\python312\\site-packages (5.2.0)\n",
      "Requirement already satisfied: scikit-learn in c:\\users\\zanyi\\appdata\\roaming\\python\\python312\\site-packages (1.6.1)\n",
      "Requirement already satisfied: ultralytics in c:\\users\\zanyi\\appdata\\roaming\\python\\python312\\site-packages (8.3.101)\n",
      "Requirement already satisfied: numpy>=1.26.0 in c:\\users\\zanyi\\appdata\\roaming\\python\\python312\\site-packages (from pandas) (2.0.2)\n",
      "Requirement already satisfied: python-dateutil>=2.8.2 in c:\\users\\zanyi\\appdata\\roaming\\python\\python312\\site-packages (from pandas) (2.9.0.post0)\n",
      "Requirement already satisfied: pytz>=2020.1 in c:\\users\\zanyi\\appdata\\roaming\\python\\python312\\site-packages (from pandas) (2024.2)\n",
      "Requirement already satisfied: tzdata>=2022.7 in c:\\users\\zanyi\\appdata\\roaming\\python\\python312\\site-packages (from pandas) (2024.2)\n",
      "Requirement already satisfied: beautifulsoup4 in c:\\users\\zanyi\\appdata\\roaming\\python\\python312\\site-packages (from gdown) (4.13.4)\n",
      "Requirement already satisfied: filelock in c:\\users\\zanyi\\appdata\\roaming\\python\\python312\\site-packages (from gdown) (3.16.1)\n",
      "Requirement already satisfied: requests[socks] in c:\\users\\zanyi\\appdata\\roaming\\python\\python312\\site-packages (from gdown) (2.32.3)\n",
      "Requirement already satisfied: tqdm in c:\\users\\zanyi\\appdata\\roaming\\python\\python312\\site-packages (from gdown) (4.66.5)\n",
      "Requirement already satisfied: scipy>=1.6.0 in c:\\users\\zanyi\\appdata\\roaming\\python\\python312\\site-packages (from scikit-learn) (1.14.1)\n",
      "Requirement already satisfied: joblib>=1.2.0 in c:\\users\\zanyi\\appdata\\roaming\\python\\python312\\site-packages (from scikit-learn) (1.4.2)\n",
      "Requirement already satisfied: threadpoolctl>=3.1.0 in c:\\users\\zanyi\\appdata\\roaming\\python\\python312\\site-packages (from scikit-learn) (3.5.0)\n",
      "Requirement already satisfied: matplotlib>=3.3.0 in c:\\users\\zanyi\\appdata\\roaming\\python\\python312\\site-packages (from ultralytics) (3.9.2)\n",
      "Requirement already satisfied: opencv-python>=4.6.0 in c:\\users\\zanyi\\appdata\\roaming\\python\\python312\\site-packages (from ultralytics) (4.11.0.86)\n",
      "Requirement already satisfied: pillow>=7.1.2 in c:\\users\\zanyi\\appdata\\roaming\\python\\python312\\site-packages (from ultralytics) (10.4.0)\n",
      "Requirement already satisfied: pyyaml>=5.3.1 in c:\\users\\zanyi\\appdata\\roaming\\python\\python312\\site-packages (from ultralytics) (6.0.2)\n",
      "Requirement already satisfied: torch>=1.8.0 in c:\\users\\zanyi\\appdata\\roaming\\python\\python312\\site-packages (from ultralytics) (2.4.1+cu124)\n",
      "Requirement already satisfied: torchvision>=0.9.0 in c:\\users\\zanyi\\appdata\\roaming\\python\\python312\\site-packages (from ultralytics) (0.19.1+cu124)\n",
      "Requirement already satisfied: psutil in c:\\users\\zanyi\\appdata\\roaming\\python\\python312\\site-packages (from ultralytics) (6.0.0)\n",
      "Requirement already satisfied: py-cpuinfo in c:\\users\\zanyi\\appdata\\roaming\\python\\python312\\site-packages (from ultralytics) (9.0.0)\n",
      "Requirement already satisfied: seaborn>=0.11.0 in c:\\users\\zanyi\\appdata\\roaming\\python\\python312\\site-packages (from ultralytics) (0.13.2)\n",
      "Requirement already satisfied: ultralytics-thop>=2.0.0 in c:\\users\\zanyi\\appdata\\roaming\\python\\python312\\site-packages (from ultralytics) (2.0.9)\n",
      "Requirement already satisfied: contourpy>=1.0.1 in c:\\users\\zanyi\\appdata\\roaming\\python\\python312\\site-packages (from matplotlib>=3.3.0->ultralytics) (1.3.0)\n",
      "Requirement already satisfied: cycler>=0.10 in c:\\users\\zanyi\\appdata\\roaming\\python\\python312\\site-packages (from matplotlib>=3.3.0->ultralytics) (0.12.1)\n",
      "Requirement already satisfied: fonttools>=4.22.0 in c:\\users\\zanyi\\appdata\\roaming\\python\\python312\\site-packages (from matplotlib>=3.3.0->ultralytics) (4.54.1)\n",
      "Requirement already satisfied: kiwisolver>=1.3.1 in c:\\users\\zanyi\\appdata\\roaming\\python\\python312\\site-packages (from matplotlib>=3.3.0->ultralytics) (1.4.7)\n",
      "Requirement already satisfied: packaging>=20.0 in c:\\users\\zanyi\\appdata\\roaming\\python\\python312\\site-packages (from matplotlib>=3.3.0->ultralytics) (24.1)\n",
      "Requirement already satisfied: pyparsing>=2.3.1 in c:\\users\\zanyi\\appdata\\roaming\\python\\python312\\site-packages (from matplotlib>=3.3.0->ultralytics) (3.1.4)\n",
      "Requirement already satisfied: six>=1.5 in c:\\users\\zanyi\\appdata\\roaming\\python\\python312\\site-packages (from python-dateutil>=2.8.2->pandas) (1.16.0)\n",
      "Requirement already satisfied: charset-normalizer<4,>=2 in c:\\users\\zanyi\\appdata\\roaming\\python\\python312\\site-packages (from requests[socks]->gdown) (3.3.2)\n",
      "Requirement already satisfied: idna<4,>=2.5 in c:\\users\\zanyi\\appdata\\roaming\\python\\python312\\site-packages (from requests[socks]->gdown) (3.7)\n",
      "Requirement already satisfied: urllib3<3,>=1.21.1 in c:\\users\\zanyi\\appdata\\roaming\\python\\python312\\site-packages (from requests[socks]->gdown) (2.4.0)\n",
      "Requirement already satisfied: certifi>=2017.4.17 in c:\\users\\zanyi\\appdata\\roaming\\python\\python312\\site-packages (from requests[socks]->gdown) (2024.8.30)\n",
      "Requirement already satisfied: typing-extensions>=4.8.0 in c:\\users\\zanyi\\appdata\\roaming\\python\\python312\\site-packages (from torch>=1.8.0->ultralytics) (4.12.2)\n",
      "Requirement already satisfied: sympy in c:\\users\\zanyi\\appdata\\roaming\\python\\python312\\site-packages (from torch>=1.8.0->ultralytics) (1.13.3)\n",
      "Requirement already satisfied: networkx in c:\\users\\zanyi\\appdata\\roaming\\python\\python312\\site-packages (from torch>=1.8.0->ultralytics) (3.3)\n",
      "Requirement already satisfied: jinja2 in c:\\users\\zanyi\\appdata\\roaming\\python\\python312\\site-packages (from torch>=1.8.0->ultralytics) (3.1.4)\n",
      "Requirement already satisfied: fsspec in c:\\users\\zanyi\\appdata\\roaming\\python\\python312\\site-packages (from torch>=1.8.0->ultralytics) (2024.9.0)\n",
      "Requirement already satisfied: setuptools in c:\\users\\zanyi\\appdata\\roaming\\python\\python312\\site-packages (from torch>=1.8.0->ultralytics) (75.2.0)\n",
      "Requirement already satisfied: colorama in c:\\users\\zanyi\\appdata\\roaming\\python\\python312\\site-packages (from tqdm->gdown) (0.4.6)\n",
      "Requirement already satisfied: soupsieve>1.2 in c:\\users\\zanyi\\appdata\\roaming\\python\\python312\\site-packages (from beautifulsoup4->gdown) (2.7)\n",
      "Requirement already satisfied: MarkupSafe>=2.0 in c:\\users\\zanyi\\appdata\\roaming\\python\\python312\\site-packages (from jinja2->torch>=1.8.0->ultralytics) (2.1.5)\n",
      "Requirement already satisfied: PySocks!=1.5.7,>=1.5.6 in c:\\users\\zanyi\\appdata\\roaming\\python\\python312\\site-packages (from requests[socks]->gdown) (1.7.1)\n",
      "Requirement already satisfied: mpmath<1.4,>=1.1.0 in c:\\users\\zanyi\\appdata\\roaming\\python\\python312\\site-packages (from sympy->torch>=1.8.0->ultralytics) (1.3.0)\n"
     ]
    }
   ],
   "source": [
    "!pip install pandas gdown scikit-learn ultralytics"
   ]
  },
  {
   "cell_type": "code",
   "execution_count": null,
   "id": "5a27ca2d",
   "metadata": {},
   "outputs": [
    {
     "name": "stderr",
     "output_type": "stream",
     "text": [
      "Retrieving folder contents\n"
     ]
    },
    {
     "name": "stdout",
     "output_type": "stream",
     "text": [
      "Retrieving folder 1qO-cQtRdp-hLu6LMQ68OEv0zA791puJO test_images\n",
      "Processing file 1cxftTp4A1_13gWe4QeAlhK9AcGzIDBEH Kek Lapis.jpg\n",
      "Processing file 1aqVkDJiANm0MqLeTJALC1RuKZgt0IlI4 Kuih Kaswi Pandan.jpg\n",
      "Processing file 11K7Hc9nt3Qllw4lG4ajxineVHvXKmuY6 Kuih Ketayap.jpg\n",
      "Processing file 1qTcPAX5eSPLkAkhlyGfgooDXHZPFoJOM Kuih Lapis.jpg\n",
      "Processing file 17CPxIkfU_tecxiF1-G4nXTD0Vv_1biB- Kuih Seri Muka.png\n",
      "Processing file 1MEhhjAoBK66wtj6Xs1orsrA2vR9qLjhR Kuih Talam.jpg\n",
      "Processing file 1KmI2JRpz4DnCAmPbCWoK31BJBH4ax8i7 Kuih Ubi Kayu.jpg\n",
      "Processing file 1QFZdtM4ok-vH0kPgA7gdZQzT1aSppWcF Onde-Onde.jpg\n",
      "Processing file 12ufiwhl6whVp33F05RLiDRieRSN13XlP test_labels.txt\n"
     ]
    },
    {
     "name": "stderr",
     "output_type": "stream",
     "text": [
      "Retrieving folder contents completed\n",
      "Building directory structure\n",
      "Building directory structure completed\n",
      "Downloading...\n",
      "From: https://drive.google.com/uc?id=1cxftTp4A1_13gWe4QeAlhK9AcGzIDBEH\n",
      "To: c:\\Users\\zanyi\\Documents\\GitHub\\NAIC\\submission\\test_folder\\test_images\\Kek Lapis.jpg\n",
      "100%|██████████| 1.27M/1.27M [00:00<00:00, 2.19MB/s]\n",
      "Downloading...\n",
      "From: https://drive.google.com/uc?id=1aqVkDJiANm0MqLeTJALC1RuKZgt0IlI4\n",
      "To: c:\\Users\\zanyi\\Documents\\GitHub\\NAIC\\submission\\test_folder\\test_images\\Kuih Kaswi Pandan.jpg\n",
      "100%|██████████| 418k/418k [00:00<00:00, 1.65MB/s]\n",
      "Downloading...\n",
      "From: https://drive.google.com/uc?id=11K7Hc9nt3Qllw4lG4ajxineVHvXKmuY6\n",
      "To: c:\\Users\\zanyi\\Documents\\GitHub\\NAIC\\submission\\test_folder\\test_images\\Kuih Ketayap.jpg\n",
      "100%|██████████| 373k/373k [00:00<00:00, 1.92MB/s]\n",
      "Downloading...\n",
      "From: https://drive.google.com/uc?id=1qTcPAX5eSPLkAkhlyGfgooDXHZPFoJOM\n",
      "To: c:\\Users\\zanyi\\Documents\\GitHub\\NAIC\\submission\\test_folder\\test_images\\Kuih Lapis.jpg\n",
      "100%|██████████| 56.6k/56.6k [00:00<00:00, 1.42MB/s]\n",
      "Downloading...\n",
      "From: https://drive.google.com/uc?id=17CPxIkfU_tecxiF1-G4nXTD0Vv_1biB-\n",
      "To: c:\\Users\\zanyi\\Documents\\GitHub\\NAIC\\submission\\test_folder\\test_images\\Kuih Seri Muka.png\n",
      "100%|██████████| 1.04M/1.04M [00:00<00:00, 2.00MB/s]\n",
      "Downloading...\n",
      "From: https://drive.google.com/uc?id=1MEhhjAoBK66wtj6Xs1orsrA2vR9qLjhR\n",
      "To: c:\\Users\\zanyi\\Documents\\GitHub\\NAIC\\submission\\test_folder\\test_images\\Kuih Talam.jpg\n",
      "100%|██████████| 16.8k/16.8k [00:00<00:00, 985kB/s]\n",
      "Downloading...\n",
      "From: https://drive.google.com/uc?id=1KmI2JRpz4DnCAmPbCWoK31BJBH4ax8i7\n",
      "To: c:\\Users\\zanyi\\Documents\\GitHub\\NAIC\\submission\\test_folder\\test_images\\Kuih Ubi Kayu.jpg\n",
      "100%|██████████| 155k/155k [00:00<00:00, 1.08MB/s]\n",
      "Downloading...\n",
      "From: https://drive.google.com/uc?id=1QFZdtM4ok-vH0kPgA7gdZQzT1aSppWcF\n",
      "To: c:\\Users\\zanyi\\Documents\\GitHub\\NAIC\\submission\\test_folder\\test_images\\Onde-Onde.jpg\n",
      "100%|██████████| 95.9k/95.9k [00:00<00:00, 1.03MB/s]\n",
      "Downloading...\n",
      "From: https://drive.google.com/uc?id=12ufiwhl6whVp33F05RLiDRieRSN13XlP\n",
      "To: c:\\Users\\zanyi\\Documents\\GitHub\\NAIC\\submission\\test_folder\\test_labels.txt\n",
      "100%|██████████| 283/283 [00:00<00:00, 283kB/s]\n",
      "Download completed\n"
     ]
    },
    {
     "data": {
      "text/plain": [
       "['test_folder\\\\test_images\\\\Kek Lapis.jpg',\n",
       " 'test_folder\\\\test_images\\\\Kuih Kaswi Pandan.jpg',\n",
       " 'test_folder\\\\test_images\\\\Kuih Ketayap.jpg',\n",
       " 'test_folder\\\\test_images\\\\Kuih Lapis.jpg',\n",
       " 'test_folder\\\\test_images\\\\Kuih Seri Muka.png',\n",
       " 'test_folder\\\\test_images\\\\Kuih Talam.jpg',\n",
       " 'test_folder\\\\test_images\\\\Kuih Ubi Kayu.jpg',\n",
       " 'test_folder\\\\test_images\\\\Onde-Onde.jpg',\n",
       " 'test_folder\\\\test_labels.txt']"
      ]
     },
     "execution_count": 78,
     "metadata": {},
     "output_type": "execute_result"
    }
   ],
   "source": [
    "import gdown\n",
    "import os\n",
    "import pandas as pd\n",
    "from sklearn.metrics import precision_score, recall_score, f1_score, classification_report\n",
    "from ultralytics import YOLO\n",
    "\n",
    "##Changes here in v2\n",
    "## Use this code to download the testing folder. You must include these 2 lines without any changes\n",
    "test_folder_id = '1LZIhiV9l82W4fNpfaBHyGvh8XBX6SoU2'\n",
    "gdown.download_folder(id=test_folder_id, output=\"test_folder\", quiet=False, use_cookies=False)\n"
   ]
  },
  {
   "cell_type": "code",
   "execution_count": 79,
   "id": "2cbd7775",
   "metadata": {},
   "outputs": [
    {
     "name": "stderr",
     "output_type": "stream",
     "text": [
      "Retrieving folder contents\n"
     ]
    },
    {
     "name": "stdout",
     "output_type": "stream",
     "text": [
      "Processing file 1_7BS5j_Q45__GDzONhUppopYOuzLJi1d best.pt\n",
      "Processing file 1bQ3S0yogD5SMnEqWq-Ggzw9YsVKXKmYH labels.txt\n"
     ]
    },
    {
     "name": "stderr",
     "output_type": "stream",
     "text": [
      "Retrieving folder contents completed\n",
      "Building directory structure\n",
      "Building directory structure completed\n",
      "Downloading...\n",
      "From: https://drive.google.com/uc?id=1_7BS5j_Q45__GDzONhUppopYOuzLJi1d\n",
      "To: c:\\Users\\zanyi\\Documents\\GitHub\\NAIC\\submission\\model\\best.pt\n",
      "100%|██████████| 20.9M/20.9M [00:07<00:00, 2.88MB/s]\n",
      "Downloading...\n",
      "From: https://drive.google.com/uc?id=1bQ3S0yogD5SMnEqWq-Ggzw9YsVKXKmYH\n",
      "To: c:\\Users\\zanyi\\Documents\\GitHub\\NAIC\\submission\\model\\labels.txt\n",
      "100%|██████████| 138/138 [00:00<00:00, 138kB/s]\n",
      "Download completed\n"
     ]
    },
    {
     "data": {
      "text/plain": [
       "['model\\\\best.pt', 'model\\\\labels.txt']"
      ]
     },
     "execution_count": 79,
     "metadata": {},
     "output_type": "execute_result"
    }
   ],
   "source": [
    "model_folder_id = \"1XK3T_-hU5WLMcqlrLZe1zWOZkbiGU1tZ\"\n",
    "gdown.download_folder(id=model_folder_id, output=\"model\", quiet=False, use_cookies=False)"
   ]
  },
  {
   "cell_type": "code",
   "execution_count": null,
   "id": "53ba62b1",
   "metadata": {},
   "outputs": [],
   "source": [
    "model = YOLO(\"model/best.pt\") #load model"
   ]
  },
  {
   "cell_type": "code",
   "execution_count": 81,
   "id": "16353b09",
   "metadata": {},
   "outputs": [
    {
     "name": "stdout",
     "output_type": "stream",
     "text": [
      "{0: 'Kuih Talam', 1: 'Kuih Lapis', 2: 'Kuih Ubi Kayu', 3: 'Onde-Onde', 4: 'Kuih Kaswi Pandan', 5: 'Kek Lapis', 6: 'Kuih Seri Muka', 7: 'Kuih Ketayap'}\n",
      "{'Kuih Talam': 0, 'Kuih Lapis': 1, 'Kuih Ubi Kayu': 2, 'Onde Onde': 3, 'Kuih Kaswi Pandan': 4, 'Kek Lapis': 5, 'Kuih Seri Muka': 6, 'Kuih Ketayap': 7}\n"
     ]
    }
   ],
   "source": [
    "# get labels\n",
    "label_map = {}\n",
    "with open(\"model/labels.txt\", \"r\", encoding=\"utf-8\") as f:\n",
    "    for _, line in enumerate(f):\n",
    "        parts = line.split(\" \", 1)\n",
    "\n",
    "        idx, label = parts\n",
    "        label_map[int(idx)] = label.strip()\n",
    "reverse_labels = {v.replace(\"-\", \" \"): k for k, v in label_map.items()}\n",
    "\n",
    "print(label_map)\n",
    "print(reverse_labels)"
   ]
  },
  {
   "cell_type": "code",
   "execution_count": 82,
   "id": "4155a1a7",
   "metadata": {},
   "outputs": [
    {
     "name": "stdout",
     "output_type": "stream",
     "text": [
      "\n",
      "image 1/1 c:\\Users\\zanyi\\Documents\\GitHub\\NAIC\\submission\\test_folder\\test_images\\Kek Lapis.jpg: 640x640 Kek Lapis 1.00, Kuih Seri Muka 0.00, Kuih Ubi Kayu 0.00, Kuih Lapis 0.00, Kuih Ketayap 0.00, 16.0ms\n",
      "Speed: 43.6ms preprocess, 16.0ms inference, 0.1ms postprocess per image at shape (1, 3, 640, 640)\n",
      "prediction of this is: Kek Lapis\n",
      "\n",
      "image 1/1 c:\\Users\\zanyi\\Documents\\GitHub\\NAIC\\submission\\test_folder\\test_images\\Kuih Kaswi Pandan.jpg: 640x640 Kuih Kaswi Pandan 0.66, Kuih Lapis 0.31, Kuih Seri Muka 0.02, Kuih Ubi Kayu 0.01, Kuih Ketayap 0.00, 15.8ms\n",
      "Speed: 35.2ms preprocess, 15.8ms inference, 0.1ms postprocess per image at shape (1, 3, 640, 640)\n",
      "prediction of this is: Kuih Kaswi Pandan\n",
      "\n",
      "image 1/1 c:\\Users\\zanyi\\Documents\\GitHub\\NAIC\\submission\\test_folder\\test_images\\Kuih Ketayap.jpg: 640x640 Kuih Ketayap 1.00, Kuih Ubi Kayu 0.00, Kek Lapis 0.00, Kuih Lapis 0.00, Kuih Seri Muka 0.00, 15.5ms\n",
      "Speed: 68.7ms preprocess, 15.5ms inference, 0.1ms postprocess per image at shape (1, 3, 640, 640)\n",
      "prediction of this is: Kuih Ketayap\n",
      "\n",
      "image 1/1 c:\\Users\\zanyi\\Documents\\GitHub\\NAIC\\submission\\test_folder\\test_images\\Kuih Lapis.jpg: 640x640 Kuih Lapis 1.00, Kuih Seri Muka 0.00, Kuih Talam 0.00, Kek Lapis 0.00, Kuih Ubi Kayu 0.00, 16.4ms\n",
      "Speed: 27.8ms preprocess, 16.4ms inference, 0.1ms postprocess per image at shape (1, 3, 640, 640)\n",
      "prediction of this is: Kuih Lapis\n",
      "\n",
      "image 1/1 c:\\Users\\zanyi\\Documents\\GitHub\\NAIC\\submission\\test_folder\\test_images\\Kuih Seri Muka.png: 640x640 Kuih Seri Muka 0.99, Kuih Lapis 0.00, Kuih Kaswi Pandan 0.00, Kuih Ketayap 0.00, Kuih Ubi Kayu 0.00, 15.7ms\n",
      "Speed: 45.2ms preprocess, 15.7ms inference, 0.1ms postprocess per image at shape (1, 3, 640, 640)\n",
      "prediction of this is: Kuih Seri Muka\n",
      "\n",
      "image 1/1 c:\\Users\\zanyi\\Documents\\GitHub\\NAIC\\submission\\test_folder\\test_images\\Kuih Talam.jpg: 640x640 Kuih Talam 1.00, Kuih Lapis 0.00, Kuih Ketayap 0.00, Kuih Seri Muka 0.00, Onde Onde 0.00, 15.7ms\n",
      "Speed: 32.0ms preprocess, 15.7ms inference, 0.1ms postprocess per image at shape (1, 3, 640, 640)\n",
      "prediction of this is: Kuih Talam\n",
      "\n",
      "image 1/1 c:\\Users\\zanyi\\Documents\\GitHub\\NAIC\\submission\\test_folder\\test_images\\Kuih Ubi Kayu.jpg: 640x640 Kuih Ubi Kayu 1.00, Kuih Seri Muka 0.00, Kek Lapis 0.00, Kuih Lapis 0.00, Kuih Talam 0.00, 16.1ms\n",
      "Speed: 37.8ms preprocess, 16.1ms inference, 0.1ms postprocess per image at shape (1, 3, 640, 640)\n",
      "prediction of this is: Kuih Ubi Kayu\n",
      "\n",
      "image 1/1 c:\\Users\\zanyi\\Documents\\GitHub\\NAIC\\submission\\test_folder\\test_images\\Onde-Onde.jpg: 640x640 Onde Onde 1.00, Kuih Ketayap 0.00, Kuih Kaswi Pandan 0.00, Kuih Lapis 0.00, Kuih Talam 0.00, 15.8ms\n",
      "Speed: 49.6ms preprocess, 15.8ms inference, 0.1ms postprocess per image at shape (1, 3, 640, 640)\n",
      "prediction of this is: Onde Onde\n"
     ]
    }
   ],
   "source": [
    "#test the data\n",
    "folderPath = r\"test_folder\\test_images\"\n",
    "store = []\n",
    "pred_label_indexes_store = []\n",
    "for path in os.listdir(folderPath):\n",
    "    filePath = os.path.join(folderPath,path)\n",
    "    prediction = model.predict(filePath)\n",
    "    logits = prediction[0].names[prediction[0].probs.top1]\n",
    "    pred_label_indexes = reverse_labels[logits]\n",
    "    print(f\"prediction of this is: {logits}\")\n",
    "    store.append([path, logits])\n",
    "    pred_label_indexes_store.append(pred_label_indexes)\n"
   ]
  },
  {
   "cell_type": "code",
   "execution_count": null,
   "id": "1464155a",
   "metadata": {},
   "outputs": [
    {
     "name": "stdout",
     "output_type": "stream",
     "text": [
      "[['Kek Lapis.jpg', 'Kek Lapis'], ['Kuih Kaswi Pandan.jpg', 'Kuih Kaswi Pandan'], ['Kuih Ketayap.jpg', 'Kuih Ketayap'], ['Kuih Lapis.jpg', 'Kuih Lapis'], ['Kuih Seri Muka.png', 'Kuih Seri Muka'], ['Kuih Talam.jpg', 'Kuih Talam'], ['Kuih Ubi Kayu.jpg', 'Kuih Ubi Kayu'], ['Onde-Onde.jpg', 'Onde Onde']]\n",
      "[5, 4, 7, 1, 6, 0, 2, 3]\n"
     ]
    }
   ],
   "source": [
    "print(store) #visualise abit\n",
    "print(pred_label_indexes_store)"
   ]
  },
  {
   "cell_type": "code",
   "execution_count": null,
   "id": "cd716b16",
   "metadata": {},
   "outputs": [
    {
     "name": "stdout",
     "output_type": "stream",
     "text": [
      "[5, 4, 7, 1, 6, 0, 2, 3]\n",
      "True labels: [5, 4, 7, 1, 6, 0, 2, 3]\n",
      "Corresponding class of true labels ['Kek Lapis', 'Kuih Kaswi Pandan', 'Kuih Ketayap', 'Kuih Lapis', 'Kuih Seri Muka', 'Kuih Talam', 'Kuih Ubi Kayu', 'Onde Onde']\n",
      "Predicted labels [5, 4, 7, 1, 6, 0, 2, 3]\n",
      "Files and model predictions [['Kek Lapis.jpg', 'Kek Lapis'], ['Kuih Kaswi Pandan.jpg', 'Kuih Kaswi Pandan'], ['Kuih Ketayap.jpg', 'Kuih Ketayap'], ['Kuih Lapis.jpg', 'Kuih Lapis'], ['Kuih Seri Muka.png', 'Kuih Seri Muka'], ['Kuih Talam.jpg', 'Kuih Talam'], ['Kuih Ubi Kayu.jpg', 'Kuih Ubi Kayu'], ['Onde-Onde.jpg', 'Onde Onde']]\n"
     ]
    }
   ],
   "source": [
    "label_indexes = [] #load test_labels data to create ground truth\n",
    "class_names = []\n",
    "with open(r\"test_folder\\test_labels.txt\", 'r', encoding='utf-8') as f:\n",
    "    for line in f:\n",
    "        parts = line.strip().split(',')\n",
    "        class_name = parts[1].strip().replace('\"', '')\n",
    "        class_name = class_name.replace(\"-\",' ')\n",
    "        class_names.append(class_name)\n",
    "        idx = reverse_labels.get(class_name)\n",
    "        label_indexes.append(idx)\n",
    "\n",
    "class_names.sort() #sort the data so that it aligns with ultralytics without actually changing the data (does not affect results)\n",
    "label_indexes_sorted = [reverse_labels.get(name) for name in class_names]\n",
    "\n",
    "sorted_dict = [reverse_labels.get(name) for name in sorted(class_names)]\n",
    "sorted_dict.pop(0) #remove the \"Class\" header\n",
    "class_names.pop(0)\n",
    "print(sorted_dict)\n",
    "print(\"True labels:\", sorted_dict)\n",
    "print(\"Corresponding class of true labels\", class_names)\n",
    "print(\"Predicted labels\", pred_label_indexes_store)\n",
    "print(\"Files and model predictions\", store)"
   ]
  },
  {
   "cell_type": "code",
   "execution_count": null,
   "id": "d83a4c3c",
   "metadata": {},
   "outputs": [
    {
     "name": "stdout",
     "output_type": "stream",
     "text": [
      "['Kek Lapis', 'Kuih Kaswi Pandan', 'Kuih Ketayap', 'Kuih Lapis', 'Kuih Seri Muka', 'Kuih Talam', 'Kuih Ubi Kayu', 'Onde-Onde']\n",
      "1.2191545692985528e-06\n",
      "[['Kek Lapis.jpg', 5, 'Kek Lapis', 1.2191545692985528e-06, 'Kek Lapis'], ['Kuih Kaswi Pandan.jpg', 4, 'Kuih Kaswi Pandan', 1.478978265367914e-05, 'Kuih Kaswi Pandan'], ['Kuih Ketayap.jpg', 7, 'Kuih Ketayap', 6.33520758128725e-05, 'Kuih Ketayap'], ['Kuih Lapis.jpg', 1, 'Kuih Lapis', 3.992577148892451e-06, 'Kuih Lapis'], ['Kuih Seri Muka.png', 6, 'Kuih Seri Muka', 1.1620790019151173e-06, 'Kuih Seri Muka'], ['Kuih Talam.jpg', 0, 'Kuih Talam', 2.022571834459086e-06, 'Kuih Talam'], ['Kuih Ubi Kayu.jpg', 2, 'Kuih Ubi Kayu', 7.845013669793843e-07, 'Kuih Ubi Kayu'], ['Onde-Onde.jpg', 3, 'Onde-Onde', 0.9999127388000488, 'Onde-Onde']]\n"
     ]
    }
   ],
   "source": [
    "for items in store: #add back hyphen for onde-onde.\n",
    "    if items[1].replace(\" \", \"\").lower() == \"ondeonde\":\n",
    "        items[1] = \"Onde-Onde\"\n",
    "for idx, items in enumerate(class_names): #add back hyphen for onde-onde.\n",
    "    if items.replace(\" \", \"\").lower() == \"ondeonde\":\n",
    "        class_names[idx] = \"Onde-Onde\"\n",
    "print(class_names)\n",
    "\n",
    "dataset = [] #create dataset\n",
    "class_probs = prediction[0].probs.data.tolist()\n",
    "print(class_probs[0])\n",
    "for i,items in enumerate(store):\n",
    "    image = items[0]\n",
    "    pred_label = items[1]\n",
    "    pred_index = pred_label_indexes_store[i]\n",
    "    class_prob = class_probs[i]  # Use your actual probabilities here\n",
    "    true_index = class_names[i]\n",
    "    dataset.append([image, pred_index, pred_label, class_prob, true_index])\n",
    "    \n",
    "print(dataset)"
   ]
  },
  {
   "cell_type": "code",
   "execution_count": null,
   "id": "f69fab65",
   "metadata": {},
   "outputs": [
    {
     "data": {
      "text/html": [
       "<div>\n",
       "<style scoped>\n",
       "    .dataframe tbody tr th:only-of-type {\n",
       "        vertical-align: middle;\n",
       "    }\n",
       "\n",
       "    .dataframe tbody tr th {\n",
       "        vertical-align: top;\n",
       "    }\n",
       "\n",
       "    .dataframe thead th {\n",
       "        text-align: right;\n",
       "    }\n",
       "</style>\n",
       "<table border=\"1\" class=\"dataframe\">\n",
       "  <thead>\n",
       "    <tr style=\"text-align: right;\">\n",
       "      <th></th>\n",
       "      <th>predicted_class_index</th>\n",
       "      <th>predicted_label</th>\n",
       "      <th>class_probabilities</th>\n",
       "      <th>true_class_index</th>\n",
       "    </tr>\n",
       "    <tr>\n",
       "      <th>image</th>\n",
       "      <th></th>\n",
       "      <th></th>\n",
       "      <th></th>\n",
       "      <th></th>\n",
       "    </tr>\n",
       "  </thead>\n",
       "  <tbody>\n",
       "    <tr>\n",
       "      <th>Kek Lapis.jpg</th>\n",
       "      <td>5</td>\n",
       "      <td>Kek Lapis</td>\n",
       "      <td>1.219155e-06</td>\n",
       "      <td>Kek Lapis</td>\n",
       "    </tr>\n",
       "    <tr>\n",
       "      <th>Kuih Kaswi Pandan.jpg</th>\n",
       "      <td>4</td>\n",
       "      <td>Kuih Kaswi Pandan</td>\n",
       "      <td>1.478978e-05</td>\n",
       "      <td>Kuih Kaswi Pandan</td>\n",
       "    </tr>\n",
       "    <tr>\n",
       "      <th>Kuih Ketayap.jpg</th>\n",
       "      <td>7</td>\n",
       "      <td>Kuih Ketayap</td>\n",
       "      <td>6.335208e-05</td>\n",
       "      <td>Kuih Ketayap</td>\n",
       "    </tr>\n",
       "    <tr>\n",
       "      <th>Kuih Lapis.jpg</th>\n",
       "      <td>1</td>\n",
       "      <td>Kuih Lapis</td>\n",
       "      <td>3.992577e-06</td>\n",
       "      <td>Kuih Lapis</td>\n",
       "    </tr>\n",
       "    <tr>\n",
       "      <th>Kuih Seri Muka.png</th>\n",
       "      <td>6</td>\n",
       "      <td>Kuih Seri Muka</td>\n",
       "      <td>1.162079e-06</td>\n",
       "      <td>Kuih Seri Muka</td>\n",
       "    </tr>\n",
       "    <tr>\n",
       "      <th>Kuih Talam.jpg</th>\n",
       "      <td>0</td>\n",
       "      <td>Kuih Talam</td>\n",
       "      <td>2.022572e-06</td>\n",
       "      <td>Kuih Talam</td>\n",
       "    </tr>\n",
       "    <tr>\n",
       "      <th>Kuih Ubi Kayu.jpg</th>\n",
       "      <td>2</td>\n",
       "      <td>Kuih Ubi Kayu</td>\n",
       "      <td>7.845014e-07</td>\n",
       "      <td>Kuih Ubi Kayu</td>\n",
       "    </tr>\n",
       "    <tr>\n",
       "      <th>Onde-Onde.jpg</th>\n",
       "      <td>3</td>\n",
       "      <td>Onde-Onde</td>\n",
       "      <td>9.999127e-01</td>\n",
       "      <td>Onde-Onde</td>\n",
       "    </tr>\n",
       "  </tbody>\n",
       "</table>\n",
       "</div>"
      ],
      "text/plain": [
       "                       predicted_class_index    predicted_label  \\\n",
       "image                                                             \n",
       "Kek Lapis.jpg                              5          Kek Lapis   \n",
       "Kuih Kaswi Pandan.jpg                      4  Kuih Kaswi Pandan   \n",
       "Kuih Ketayap.jpg                           7       Kuih Ketayap   \n",
       "Kuih Lapis.jpg                             1         Kuih Lapis   \n",
       "Kuih Seri Muka.png                         6     Kuih Seri Muka   \n",
       "Kuih Talam.jpg                             0         Kuih Talam   \n",
       "Kuih Ubi Kayu.jpg                          2      Kuih Ubi Kayu   \n",
       "Onde-Onde.jpg                              3          Onde-Onde   \n",
       "\n",
       "                       class_probabilities   true_class_index  \n",
       "image                                                          \n",
       "Kek Lapis.jpg                 1.219155e-06          Kek Lapis  \n",
       "Kuih Kaswi Pandan.jpg         1.478978e-05  Kuih Kaswi Pandan  \n",
       "Kuih Ketayap.jpg              6.335208e-05       Kuih Ketayap  \n",
       "Kuih Lapis.jpg                3.992577e-06         Kuih Lapis  \n",
       "Kuih Seri Muka.png            1.162079e-06     Kuih Seri Muka  \n",
       "Kuih Talam.jpg                2.022572e-06         Kuih Talam  \n",
       "Kuih Ubi Kayu.jpg             7.845014e-07      Kuih Ubi Kayu  \n",
       "Onde-Onde.jpg                 9.999127e-01          Onde-Onde  "
      ]
     },
     "execution_count": 86,
     "metadata": {},
     "output_type": "execute_result"
    }
   ],
   "source": [
    "headers = ['image', 'predicted_class_index', 'predicted_label', 'class_probabilities', 'true_class_index']\n",
    "\n",
    "df = pd.DataFrame(dataset, columns=headers) #make dataframe with columns and index as image.\n",
    "df.set_index(\"image\") #generate df"
   ]
  },
  {
   "cell_type": "code",
   "execution_count": null,
   "id": "3854c3e9",
   "metadata": {},
   "outputs": [
    {
     "name": "stdout",
     "output_type": "stream",
     "text": [
      "Precision: 1.000\n",
      "Recall:    1.000\n",
      "F1 Score:  1.000\n",
      "\n",
      "Classification Report:\n",
      "              precision    recall  f1-score   support\n",
      "\n",
      "           0       1.00      1.00      1.00         1\n",
      "           1       1.00      1.00      1.00         1\n",
      "           2       1.00      1.00      1.00         1\n",
      "           3       1.00      1.00      1.00         1\n",
      "           4       1.00      1.00      1.00         1\n",
      "           5       1.00      1.00      1.00         1\n",
      "           6       1.00      1.00      1.00         1\n",
      "           7       1.00      1.00      1.00         1\n",
      "\n",
      "    accuracy                           1.00         8\n",
      "   macro avg       1.00      1.00      1.00         8\n",
      "weighted avg       1.00      1.00      1.00         8\n",
      "\n"
     ]
    }
   ],
   "source": [
    "precision = precision_score(sorted_dict, pred_label_indexes_store, average='macro') #report metrics\n",
    "recall = recall_score(sorted_dict, pred_label_indexes_store, average='macro')\n",
    "f1 = f1_score(sorted_dict, pred_label_indexes_store, average='macro')\n",
    "\n",
    "print(f\"Precision: {precision:.3f}\")\n",
    "print(f\"Recall:    {recall:.3f}\")\n",
    "print(f\"F1 Score:  {f1:.3f}\")\n",
    "\n",
    "print(\"\\nClassification Report:\")\n",
    "print(classification_report(sorted_dict, pred_label_indexes_store))\n"
   ]
  }
 ],
 "metadata": {
  "kernelspec": {
   "display_name": "base",
   "language": "python",
   "name": "python3"
  },
  "language_info": {
   "codemirror_mode": {
    "name": "ipython",
    "version": 3
   },
   "file_extension": ".py",
   "mimetype": "text/x-python",
   "name": "python",
   "nbconvert_exporter": "python",
   "pygments_lexer": "ipython3",
   "version": "3.12.4"
  }
 },
 "nbformat": 4,
 "nbformat_minor": 5
}
